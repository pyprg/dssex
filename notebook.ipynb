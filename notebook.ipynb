{
 "cells": [
  {
   "cell_type": "code",
   "execution_count": null,
   "id": "68258b91-e25b-4bd8-9c04-f67ca9d84f36",
   "metadata": {
    "editable": false,
    "jupyter": {
     "source_hidden": true
    },
    "slideshow": {
     "slide_type": ""
    },
    "tags": []
   },
   "outputs": [],
   "source": [
    "import sys\n",
    "extra_pathes = (\n",
    "    'C:/users/live/OneDrive/Dokumente/py_projects/dssex/src', \n",
    "    'C:/users/live/OneDrive/Dokumente/py_projects/egrid_pkg/src', \n",
    "    'C:/users/live/OneDrive/Dokumente/py_projects/graphparser/src')\n",
    "for path in extra_pathes:\n",
    "    if path not in sys.path:\n",
    "        sys.path.append(path)\n",
    "import dssex"
   ]
  },
  {
   "cell_type": "markdown",
   "id": "b64bc56e-7c19-42fe-874d-1e4202944b2a",
   "metadata": {},
   "source": [
    "### Decorating Elements\n",
    "\n",
    "| in graphic | in footer | element | role | attributes |\r\n",
    "|------------|-----------|---------|------|------------|\r\n",
    "| at terminal<ul><li>P=0.72</li><li>P.cost=14</li></ul> | #.PValue(id_of_batch=a P=72 direction=-1 cost=27) | PValue | Value of (measured) active power. | <ul><li>id_of_batch</li><li>P</li><li>direction</li><li>cost</li></ul>|\r\n",
    "| at terminal<ul><li>Q=0.27</li><li>Q.cost=17.8</li></ul> | #.QValue(id_of_batch=b Q=0.27 cost=27) | PValue | Value of (measured) reactive power. | <ul><li>id_of_batch</li><li>Q</li><li>direction</li><li>cost</li></ul>|\r\n",
    "| at terminal<ul><li>I=12.3</li></ul> | #.IValue(id_of_batch=c I=12.3) | IValue | Value of (measured) current. | <ul><li>id_of_batch</li><li>I</li></ul>|\r\n",
    "| at node<ul><li>V=1.03</li></ul> | #.Vvalue(id_of_node=c V=1.03) | Vvalue | Value of (measured) voltage. | <ul><li>id_of_node</li><li>V</li></ul>|\r\n",
    "||#.Defk(id=kp type=const)|Defk|define scaling factor(s)|<ul><li>id</li><li>type</li><li>id_of_source</li><li>value</li><li>min</li><li>max</li><li>is_discrete</li><li>m</li><li>n</li><li>step</li><li>cost</li><\n",
    "\n",
    "to be continued\n",
    "\n",
    "    \n"
   ]
  },
  {
   "cell_type": "code",
   "execution_count": null,
   "id": "307b2bc4-9e94-4bbd-ab6b-64e8dbead3fb",
   "metadata": {
    "editable": true,
    "slideshow": {
     "slide_type": ""
    },
    "tags": []
   },
   "outputs": [],
   "source": [
    "schema = \"\"\"\n",
    "                   (                                 ~~~\n",
    "               +-->(                                 ~~~\n",
    "slack +--------+   (-Branch-------------+ n +-------||||| heating_\n",
    "        Tlink=tap     y_lo=1k-1kj         |                P10=200\n",
    "                      y_tr=1µ+1µj         |\n",
    "                                          |        \\<-+->/\n",
    "                                          |           |\n",
    "                        _cap ||---------+ n +-------((~)) motor_\n",
    "                          Q10=-10                          P10=160\n",
    "                          Exp_v_q=2                        Q10=10\n",
    "\n",
    "#.Deft(id=tap type=var min=-16 max=16 value=0 is_discrete=True cost=.03)\n",
    "#.Defk(id=kcap type=var min=0 max=5 value=0 is_discrete=True cost=.05)\n",
    "#.Klink(id_of_injection=cap id_of_factor=kcap part=q)\n",
    "#.Vlimit(min=.95)\n",
    "\"\"\"\n",
    "step_params=[\n",
    "    # first step: minimize voltage violations\n",
    "    dict(objectives='U', constraints='U'),\n",
    "    # second step: minimize cost\n",
    "    dict(objectives='CL', constraints='U', floss=2)]\n",
    "result = dssex.estimate(schema, step_params=step_params)"
   ]
  },
  {
   "cell_type": "code",
   "execution_count": null,
   "id": "15d8799d-c015-4991-b093-1b57fa3320a3",
   "metadata": {
    "editable": false,
    "slideshow": {
     "slide_type": ""
    },
    "tags": []
   },
   "outputs": [],
   "source": [
    "result['messages']"
   ]
  },
  {
   "cell_type": "code",
   "execution_count": null,
   "id": "45e508ff-7e44-4e18-850e-9542bc1ca047",
   "metadata": {
    "editable": false,
    "slideshow": {
     "slide_type": ""
    },
    "tags": []
   },
   "outputs": [],
   "source": [
    "result['nodes']"
   ]
  },
  {
   "cell_type": "code",
   "execution_count": null,
   "id": "609ed1aa-3807-4074-a7c0-c2195bf391d7",
   "metadata": {
    "editable": false,
    "slideshow": {
     "slide_type": ""
    },
    "tags": []
   },
   "outputs": [],
   "source": [
    "result['branches']"
   ]
  },
  {
   "cell_type": "code",
   "execution_count": null,
   "id": "d9606c27-1ddf-4732-a9f2-db4f232c0725",
   "metadata": {
    "editable": false,
    "slideshow": {
     "slide_type": ""
    },
    "tags": []
   },
   "outputs": [],
   "source": [
    "result['injections']"
   ]
  }
 ],
 "metadata": {
  "kernelspec": {
   "display_name": "Python 3 (ipykernel)",
   "language": "python",
   "name": "python3"
  },
  "language_info": {
   "codemirror_mode": {
    "name": "ipython",
    "version": 3
   },
   "file_extension": ".py",
   "mimetype": "text/x-python",
   "name": "python",
   "nbconvert_exporter": "python",
   "pygments_lexer": "ipython3",
   "version": "3.10.11"
  }
 },
 "nbformat": 4,
 "nbformat_minor": 5
}
